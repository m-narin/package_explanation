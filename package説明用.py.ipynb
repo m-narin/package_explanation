{
 "cells": [
  {
   "cell_type": "code",
   "execution_count": 17,
   "metadata": {},
   "outputs": [],
   "source": [
    "# パッケージの説明用\n",
    "# 5つの数字の平均値を求めよう！"
   ]
  },
  {
   "cell_type": "code",
   "execution_count": 26,
   "metadata": {},
   "outputs": [
    {
     "name": "stdout",
     "output_type": "stream",
     "text": [
      "3.0\n"
     ]
    }
   ],
   "source": [
    "# 5つの数字の平均値を求める\n",
    "# 基本\n",
    "\n",
    "data = [1,2,3,4,5] \n",
    "sum = 1+2+3+4+5\n",
    "len = 5\n",
    "ave = sum/len\n",
    "print(ave)"
   ]
  },
  {
   "cell_type": "code",
   "execution_count": 27,
   "metadata": {},
   "outputs": [],
   "source": [
    "# 平均値を求める関数を定義\n",
    "# 関数とは,,,\n",
    "# 数学,,, xが決まるとyが一つに決まる\n",
    "# プログラミング,,, 何か値(引数)を受け取ったら, 何らかの処理をして一つの値(戻り値)を返す\n",
    "\n",
    "def average1(x1,x2,x3,x4,x5):\n",
    "    sum = x1+x2+x3+x4+x5\n",
    "    len = 5\n",
    "    ave = sum/len\n",
    "    return ave\n"
   ]
  },
  {
   "cell_type": "code",
   "execution_count": 28,
   "metadata": {},
   "outputs": [
    {
     "name": "stdout",
     "output_type": "stream",
     "text": [
      "3.0\n"
     ]
    }
   ],
   "source": [
    "# 関数を利用して平均値を求める\n",
    "\n",
    "ave = average1(1,2,3,4,5)\n",
    "print(ave)"
   ]
  },
  {
   "cell_type": "code",
   "execution_count": 30,
   "metadata": {},
   "outputs": [],
   "source": [
    "# 上記の関数をファイル中に記述 → パッケージの卵\n",
    "# 同じ階層にあるpackage.pyのpythonファイルを利用する\n",
    "# →anacondaで実行"
   ]
  },
  {
   "cell_type": "code",
   "execution_count": 32,
   "metadata": {},
   "outputs": [
    {
     "name": "stdout",
     "output_type": "stream",
     "text": [
      "3.0\n"
     ]
    }
   ],
   "source": [
    "# 公式にあるパッケージを利用して平均値を求める\n",
    "import numpy\n",
    "\n",
    "data = [1,2,3,4,5]\n",
    "ave = numpy.average(data)\n",
    "print(ave)"
   ]
  }
 ],
 "metadata": {
  "kernelspec": {
   "display_name": "Python 3",
   "language": "python",
   "name": "python3"
  },
  "language_info": {
   "codemirror_mode": {
    "name": "ipython",
    "version": 3
   },
   "file_extension": ".py",
   "mimetype": "text/x-python",
   "name": "python",
   "nbconvert_exporter": "python",
   "pygments_lexer": "ipython3",
   "version": "3.7.6"
  }
 },
 "nbformat": 4,
 "nbformat_minor": 4
}
